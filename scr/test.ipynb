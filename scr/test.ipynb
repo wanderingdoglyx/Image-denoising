{
 "cells": [
  {
   "cell_type": "code",
   "execution_count": null,
   "metadata": {},
   "outputs": [],
   "source": [
    "import os\n",
    "import shutil\n",
    "\n",
    "\n",
    "def copy_subsubfolders(src_root, dst_root):\n",
    "    \"\"\"\n",
    "    Copy all sub-subfolders (2 levels deep) from src_root to dst_root.\n",
    "    \"\"\"\n",
    "    if not os.path.exists(dst_root):\n",
    "        os.makedirs(dst_root)\n",
    "\n",
    "    for subfolder in os.listdir(src_root):\n",
    "        subfolder_path = os.path.join(src_root, subfolder)\n",
    "        if os.path.isdir(subfolder_path):\n",
    "            for subsubfolder in os.listdir(subfolder_path):\n",
    "                subsubfolder_path = os.path.join(subfolder_path, subsubfolder)\n",
    "                if os.path.isdir(subsubfolder_path):\n",
    "                    target_path = os.path.join(dst_root, f\"{subfolder}_{subsubfolder}\")\n",
    "                    shutil.copytree(subsubfolder_path, target_path)\n",
    "                    print(f\"Copied: {subsubfolder_path} -> {target_path}\")\n",
    "\n",
    "# Example usage\n",
    "source_folder = \"/datastore01/user-storage/y.zezhang/2025_high_dose_project/data/mod_SA_images/CTAC\"\n",
    "target_folder = \"/datastore01/user-storage/y.zezhang/2025_high_dose_project/data/neural_network_data/testing/test_total\"\n",
    "copy_subsubfolders(source_folder, target_folder)\n"
   ]
  },
  {
   "cell_type": "code",
   "execution_count": 6,
   "metadata": {},
   "outputs": [],
   "source": [
    "import os\n",
    "import shutil\n",
    "\n",
    "source_folder = \"/datastore01/user-storage/y.zezhang/2025_high_dose_project/data/mod_SA_images/CTAC\"\n",
    "target_folder = \"/datastore01/user-storage/y.zezhang/2025_high_dose_project/data/neural_network_data/testing/test_total\"\n",
    "src_root=source_folder\n",
    "for subfolder in os.listdir(src_root):\n",
    "        subfolder_path = os.path.join(src_root, subfolder)"
   ]
  },
  {
   "cell_type": "code",
   "execution_count": 8,
   "metadata": {},
   "outputs": [],
   "source": [
    " if os.path.isdir(subfolder_path):\n",
    "            for subsubfolder in os.listdir(subfolder_path):\n",
    "                subsubfolder_path = os.path.join(subfolder_path, subsubfolder)"
   ]
  },
  {
   "cell_type": "code",
   "execution_count": 9,
   "metadata": {},
   "outputs": [
    {
     "data": {
      "text/plain": [
       "'/datastore01/user-storage/y.zezhang/2025_high_dose_project/data/mod_SA_images/CTAC/93064335/di2160s500'"
      ]
     },
     "execution_count": 9,
     "metadata": {},
     "output_type": "execute_result"
    }
   ],
   "source": [
    "subsubfolder_path"
   ]
  }
 ],
 "metadata": {
  "kernelspec": {
   "display_name": "tf_gpu04",
   "language": "python",
   "name": "python3"
  },
  "language_info": {
   "codemirror_mode": {
    "name": "ipython",
    "version": 3
   },
   "file_extension": ".py",
   "mimetype": "text/x-python",
   "name": "python",
   "nbconvert_exporter": "python",
   "pygments_lexer": "ipython3",
   "version": "3.9.20"
  }
 },
 "nbformat": 4,
 "nbformat_minor": 2
}
