{
 "cells": [
  {
   "cell_type": "code",
   "execution_count": 5,
   "metadata": {},
   "outputs": [
    {
     "name": "stderr",
     "output_type": "stream",
     "text": [
      "/tmp/ipykernel_1605024/741283757.py:11: DeprecationWarning: Please use `shift` from the `scipy.ndimage` namespace, the `scipy.ndimage.interpolation` namespace is deprecated.\n",
      "  from scipy.ndimage.interpolation import shift\n"
     ]
    }
   ],
   "source": [
    "import numpy as np\n",
    "import argparse\n",
    "from custom_function import *\n",
    "from glob import iglob\n",
    "from collections import defaultdict\n",
    "import scipy.ndimage\n",
    "import scipy.io as sio\n",
    "import sys\n",
    "import os\n",
    "import csv\n",
    "from scipy.ndimage.interpolation import shift\n",
    "\n",
    "def my_read_bin(cur_inp_file, data_type, input_shape):\n",
    "  A = np.fromfile(cur_inp_file, dtype = data_type)\n",
    "  A[np.isnan(A)] = 0\n",
    "  A = np.reshape(A, input_shape)\n",
    "  A = np.transpose(A, [2, 1, 0])\n",
    "  return A\n",
    "\n",
    "def center_to_def_loc(SA_rec, cur_loc, offset):\n",
    "  SA_rec_sliced = SA_rec[:,:,cur_loc[2]+offset]\n",
    "  sh_x = SA_rec_sliced.shape[1]//2 - cur_loc[0]\n",
    "  sh_y = SA_rec_sliced.shape[0]//2 - cur_loc[1]\n",
    "  SA_rec_sh = shift(SA_rec_sliced, [sh_y, sh_x], prefilter=False)\n",
    "  return SA_rec_sh\n",
    "\n",
    "def run_cho(dl_version, Ud, dose_level, isIO, bt_size, lambda_val_ind_chdiff, lambda_val_ind_mdiff):\n",
    "  base_folder_data='/datastore01/user-storage/y.zezhang/2025_high_dose_project/data/neural_network_data/testing'\n",
    "  base_folder = '/datastore01/user-storage/y.zezhang/2025_high_dose_project/mod_neural_network_training'#################################################\n",
    "  root_folder = f'{base_folder}/learning/highdose_3d_v{dl_version}/pred'; #####################################################################################\n",
    "  root_folder_mirirv3 = f'{base_folder}/learning/highdose_3d_v{dl_version}/pred_mirirv3'########################################################################\n",
    "  root_folder_prev = f'{base_folder_data}/test_data_sa_wd';###########################################################################################\n",
    "  root_folder_prev_mirirv3 = f'{base_folder_data}/test_data_mirirv3_sa_wd';##############################################################################\n",
    "  save_folder = f'{base_folder}/learning/highdose_3d_v{dl_version}/pred_tSN_fix3_ms_comb_mirirv3/lmbd_mdiff{lambda_val_ind_mdiff}/d{dose_level}'###########\n",
    "  #if not os.path.isdir(save_folder):\n",
    "  #  os.mkdir(save_folder)\n",
    "  os.makedirs(save_folder, exist_ok=True)\n",
    "\n",
    "  inp_shape = (48, 48, 48)\n",
    "  inp_shape_orig = (48, 48, 48)\n",
    "\n",
    "  # loading patient list\n",
    "  hl_pat_list_fname = f'{base_folder}/final_test_pat_list_hl.txt'\n",
    "  hl_pat_list = np.loadtxt(hl_pat_list_fname, dtype=str)\n",
    "\n",
    "  def_pat_list_fname = f'{base_folder}/final_test_pat_list_def.txt'\n",
    "  def_pat_list = np.loadtxt(def_pat_list_fname, dtype=str)\n",
    "\n",
    "  hl_pat_list_fname = f'{base_folder}/final_test_pat_list_hl_src.txt'\n",
    "  hl_pat_list_src = np.loadtxt(hl_pat_list_fname, dtype=str)\n",
    "\n",
    "  def_pat_list_fname = f'{base_folder}/final_test_pat_list_def_src.txt'\n",
    "  def_pat_list_src = np.loadtxt(def_pat_list_fname, dtype=str)\n",
    "\n",
    "  print('loading pre-written channels file...')\n",
    "  if Ud == 32:\n",
    "    U_flag = ''\n",
    "  elif Ud == 64:\n",
    "    U_flag = f'_{Ud}'\n",
    "\n",
    "  U = np.load(f'{base_folder}/U{U_flag}.npy')\n",
    "  print('U shape: ',U.shape)\n",
    "  U = np.transpose(U, [1,0])\n",
    "\n",
    "  print(f'loading images... || D: {dose_level}')\n",
    "  ff = {'diseased':defaultdict(list), 'healthy':defaultdict(list)}\n",
    "  pat_ind_arr = {'diseased':def_pat_list, 'healthy':hl_pat_list}\n",
    "  pat_ind_arr_src = {'diseased':def_pat_list_src, 'healthy':hl_pat_list_src}\n",
    "\n",
    "  def_name_arr = []\n",
    "  for diag in ['diseased', 'healthy']:\n",
    "    for idx_list in range(len(pat_ind_arr[diag])):\n",
    "      pat_ind = pat_ind_arr[diag][idx_list]\n",
    "      src_name = pat_ind_arr_src[diag][idx_list]\n",
    "      #print(pat_ind)\n",
    "      subensemble_idx = 0\n",
    "      for location in ['a','i']:\n",
    "        #for extent in [30,45,60]:\n",
    "        for extent in [30,60]:\n",
    "          for severity in [100,175,250]:\n",
    "            if diag == 'diseased':\n",
    "              def_name = f'd{location}21{extent}s{severity}'\n",
    "              def_name_mod = ''\n",
    "              centroid_fname_flag = '_mod'\n",
    "            else:\n",
    "              def_name = f'hl'\n",
    "              def_name_mod = f'hl'\n",
    "              centroid_fname_flag = '_mod_again3'\n",
    "\n",
    "            if src_name == 'mirirv3':\n",
    "              centroid_fname_flag = '_mod'\n",
    "              root_folder_act = root_folder_mirirv3\n",
    "              root_folder_prev_act = root_folder_prev_mirirv3\n",
    "            else:\n",
    "              root_folder_act = root_folder\n",
    "              root_folder_prev_act = root_folder_prev\n",
    "\n",
    "            def_name_arr.append(f'd{location}21{extent}s{severity}')\n",
    "            SA_name = \\\n",
    "              f'{root_folder_act}/{def_name}/recon_pat{pat_ind}' + \\\n",
    "              f'_{def_name}_d{dose_level}_it8' + \\\n",
    "              f'_b{bt_size}_lmbdchdiff{lambda_val_ind_chdiff}_lmbdmdiff{lambda_val_ind_mdiff}.img'\n",
    "              #f'_c30o5.img'\n",
    "            def_loc_fname = \\\n",
    "              f'{root_folder_prev_act}/{pat_ind}/def_centroid_d{location}21{extent}{centroid_fname_flag}.bin'\n",
    "            cur_loc = np.fromfile(def_loc_fname, dtype = 'float32').astype(int) - 1 #0 -based / but nn2D has 1 shift\n",
    "\n",
    "            \n",
    "            SA_rec_base = my_read_bin(SA_name, 'float32', inp_shape_orig)\n",
    "            #print(SA_rec.shape)\n",
    "            for offset in [7,8,9]:\n",
    "              SA_rec = center_to_def_loc(SA_rec_base, cur_loc, offset)\n",
    "              SA_rec = SA_rec[8:40,8:40]\n",
    "              if Ud != 32:\n",
    "                SA_rec = scipy.ndimage.zoom(SA_rec, Ud/32, order=0) # upsampling to 512X512\n",
    "              SA_rec = (SA_rec-np.min(SA_rec))/(np.max(SA_rec)-np.min(SA_rec))*255\n",
    "              SA_rec = SA_rec - np.mean(SA_rec) # remove zero frequency component\n",
    "              ff[diag][subensemble_idx].append(SA_rec.flatten())\n",
    "            if isIO == 1:\n",
    "              subensemble_idx += 1\n",
    "\n",
    "  #np.save(f'{root_folder}/SA_rec_d{location}21{extent}.npy', SA_rec)\n",
    "  ###################################################################\n",
    "\n",
    "  print('calculating test statistics...')\n",
    "  tS_sum = []\n",
    "  tN_sum = []\n"
   ]
  },
  {
   "cell_type": "code",
   "execution_count": 9,
   "metadata": {},
   "outputs": [],
   "source": [
    "\n",
    "dl_version='2sh'\n",
    "batch_size=32\n",
    "#dose_level=${1}\n",
    "dose_level=33\n",
    "\n",
    "lambda_val_ind_mdiff=0\n",
    "#lambda_val_ind_chdiff=${2}\n",
    "lambda_val_ind_chdiff=6\n",
    "Ud = 32\n",
    "isIO = 0\n"
   ]
  },
  {
   "cell_type": "code",
   "execution_count": 13,
   "metadata": {},
   "outputs": [],
   "source": [
    "bt_size=32"
   ]
  },
  {
   "cell_type": "code",
   "execution_count": 14,
   "metadata": {},
   "outputs": [
    {
     "name": "stdout",
     "output_type": "stream",
     "text": [
      "loading pre-written channels file...\n",
      "U shape:  (1024, 4)\n",
      "loading images... || D: 33\n",
      "calculating test statistics...\n"
     ]
    }
   ],
   "source": [
    "\n",
    "  base_folder_data='/datastore01/user-storage/y.zezhang/2025_high_dose_project/data/neural_network_data/testing'\n",
    "  base_folder = '/datastore01/user-storage/y.zezhang/2025_high_dose_project/mod_neural_network_training'#################################################\n",
    "  root_folder = f'{base_folder}/learning/highdose_3d_v{dl_version}/pred'; #####################################################################################\n",
    "  root_folder_mirirv3 = f'{base_folder}/learning/highdose_3d_v{dl_version}/pred_mirirv3'########################################################################\n",
    "  root_folder_prev = f'{base_folder_data}/test_data_sa_wd';###########################################################################################\n",
    "  root_folder_prev_mirirv3 = f'{base_folder_data}/test_data_mirirv3_sa_wd';##############################################################################\n",
    "  save_folder = f'{base_folder}/learning/highdose_3d_v{dl_version}/pred_tSN_fix3_ms_comb_mirirv3/lmbd_mdiff{lambda_val_ind_mdiff}/d{dose_level}'###########\n",
    "  #if not os.path.isdir(save_folder):\n",
    "  #  os.mkdir(save_folder)\n",
    "  os.makedirs(save_folder, exist_ok=True)\n",
    "\n",
    "  inp_shape = (48, 48, 48)\n",
    "  inp_shape_orig = (48, 48, 48)\n",
    "\n",
    "  # loading patient list\n",
    "  hl_pat_list_fname = f'{base_folder}/final_test_pat_list_hl.txt'\n",
    "  hl_pat_list = np.loadtxt(hl_pat_list_fname, dtype=str)\n",
    "\n",
    "  def_pat_list_fname = f'{base_folder}/final_test_pat_list_def.txt'\n",
    "  def_pat_list = np.loadtxt(def_pat_list_fname, dtype=str)\n",
    "\n",
    "  hl_pat_list_fname = f'{base_folder}/final_test_pat_list_hl_src.txt'\n",
    "  hl_pat_list_src = np.loadtxt(hl_pat_list_fname, dtype=str)\n",
    "\n",
    "  def_pat_list_fname = f'{base_folder}/final_test_pat_list_def_src.txt'\n",
    "  def_pat_list_src = np.loadtxt(def_pat_list_fname, dtype=str)\n",
    "\n",
    "  print('loading pre-written channels file...')\n",
    "  if Ud == 32:\n",
    "    U_flag = ''\n",
    "  elif Ud == 64:\n",
    "    U_flag = f'_{Ud}'\n",
    "\n",
    "  U = np.load(f'{base_folder}/U{U_flag}.npy')\n",
    "  print('U shape: ',U.shape)\n",
    "  U = np.transpose(U, [1,0])\n",
    "\n",
    "  print(f'loading images... || D: {dose_level}')\n",
    "  ff = {'diseased':defaultdict(list), 'healthy':defaultdict(list)}\n",
    "  pat_ind_arr = {'diseased':def_pat_list, 'healthy':hl_pat_list}\n",
    "  pat_ind_arr_src = {'diseased':def_pat_list_src, 'healthy':hl_pat_list_src}\n",
    "\n",
    "  def_name_arr = []\n",
    "  for diag in ['diseased', 'healthy']:\n",
    "    for idx_list in range(len(pat_ind_arr[diag])):\n",
    "      pat_ind = pat_ind_arr[diag][idx_list]\n",
    "      src_name = pat_ind_arr_src[diag][idx_list]\n",
    "      #print(pat_ind)\n",
    "      subensemble_idx = 0\n",
    "      for location in ['a','i']:\n",
    "        #for extent in [30,45,60]:\n",
    "        for extent in [30,60]:\n",
    "          for severity in [100,175,250]:\n",
    "            if diag == 'diseased':\n",
    "              def_name = f'd{location}21{extent}s{severity}'\n",
    "              def_name_mod = ''\n",
    "              centroid_fname_flag = '_mod'\n",
    "            else:\n",
    "              def_name = f'hl'\n",
    "              def_name_mod = f'hl'\n",
    "              centroid_fname_flag = '_mod_again3'\n",
    "\n",
    "            if src_name == 'mirirv3':\n",
    "              centroid_fname_flag = '_mod'\n",
    "              root_folder_act = root_folder_mirirv3\n",
    "              root_folder_prev_act = root_folder_prev_mirirv3\n",
    "            else:\n",
    "              root_folder_act = root_folder\n",
    "              root_folder_prev_act = root_folder_prev\n",
    "\n",
    "            def_name_arr.append(f'd{location}21{extent}s{severity}')\n",
    "            SA_name = \\\n",
    "              f'{root_folder_act}/{def_name}/recon_pat{pat_ind}' + \\\n",
    "              f'_{def_name}_d{dose_level}_it8' + \\\n",
    "              f'_b{bt_size}_lmbdchdiff{lambda_val_ind_chdiff}_lmbdmdiff{lambda_val_ind_mdiff}.img'\n",
    "              #f'_c30o5.img'\n",
    "            def_loc_fname = \\\n",
    "              f'{root_folder_prev_act}/{pat_ind}/def_centroid_d{location}21{extent}{centroid_fname_flag}.bin'\n",
    "            cur_loc = np.fromfile(def_loc_fname, dtype = 'float32').astype(int) - 1 #0 -based / but nn2D has 1 shift\n",
    "\n",
    "            \n",
    "            SA_rec_base = my_read_bin(SA_name, 'float32', inp_shape_orig)\n",
    "            #print(SA_rec.shape)\n",
    "            for offset in [7,8,9]:\n",
    "              SA_rec = center_to_def_loc(SA_rec_base, cur_loc, offset)\n",
    "              SA_rec = SA_rec[8:40,8:40]\n",
    "              if Ud != 32:\n",
    "                SA_rec = scipy.ndimage.zoom(SA_rec, Ud/32, order=0) # upsampling to 512X512\n",
    "              SA_rec = (SA_rec-np.min(SA_rec))/(np.max(SA_rec)-np.min(SA_rec))*255\n",
    "              SA_rec = SA_rec - np.mean(SA_rec) # remove zero frequency component\n",
    "              ff[diag][subensemble_idx].append(SA_rec.flatten())\n",
    "            if isIO == 1:\n",
    "              subensemble_idx += 1\n",
    "\n",
    "  #np.save(f'{root_folder}/SA_rec_d{location}21{extent}.npy', SA_rec)\n",
    "  ###################################################################\n",
    "\n",
    "  print('calculating test statistics...')\n",
    "  tS_sum = []\n",
    "  tN_sum = []"
   ]
  },
  {
   "cell_type": "code",
   "execution_count": 16,
   "metadata": {},
   "outputs": [],
   "source": [
    "import matplotlib.pyplot as plt\n",
    "\n",
    "def_name = f'd{location}21{extent}s{severity}'\n",
    "def_name_mod = ''\n",
    "centroid_fname_flag = '_mod'"
   ]
  },
  {
   "cell_type": "code",
   "execution_count": 18,
   "metadata": {},
   "outputs": [],
   "source": [
    "            def_name_arr.append(f'd{location}21{extent}s{severity}')\n",
    "            SA_name = \\\n",
    "              f'{root_folder_act}/{def_name}/recon_pat{pat_ind}' + \\\n",
    "              f'_{def_name}_d{dose_level}_it8' + \\\n",
    "              f'_b{bt_size}_lmbdchdiff{lambda_val_ind_chdiff}_lmbdmdiff{lambda_val_ind_mdiff}.img'\n",
    "              #f'_c30o5.img'\n",
    "            def_loc_fname = \\\n",
    "              f'{root_folder_prev_act}/{pat_ind}/def_centroid_d{location}21{extent}{centroid_fname_flag}.bin'\n",
    "            cur_loc = np.fromfile(def_loc_fname, dtype = 'float32').astype(int) - 1 #0 -based / but nn2D has 1 shift\n",
    "\n",
    "            \n",
    "            SA_rec_base = my_read_bin(SA_name, 'float32', inp_shape_orig)\n",
    "            offset=7"
   ]
  },
  {
   "cell_type": "code",
   "execution_count": 23,
   "metadata": {},
   "outputs": [
    {
     "data": {
      "text/plain": [
       "'/datastore01/user-storage/y.zezhang/2025_high_dose_project/mod_neural_network_training/learning/highdose_3d_v2sh/pred_mirirv3/di2160s250/recon_pat25400641_di2160s250_d33_it8_b32_lmbdchdiff6_lmbdmdiff0.img'"
      ]
     },
     "execution_count": 23,
     "metadata": {},
     "output_type": "execute_result"
    }
   ],
   "source": [
    "SA_name"
   ]
  },
  {
   "cell_type": "code",
   "execution_count": 24,
   "metadata": {},
   "outputs": [
    {
     "data": {
      "text/plain": [
       "array([29, 31, 16])"
      ]
     },
     "execution_count": 24,
     "metadata": {},
     "output_type": "execute_result"
    }
   ],
   "source": [
    "cur_loc"
   ]
  },
  {
   "cell_type": "code",
   "execution_count": 21,
   "metadata": {},
   "outputs": [],
   "source": [
    "SA_rec_sliced = SA_rec_base [:,:,cur_loc[2]+offset]\n",
    "sh_x = SA_rec_sliced.shape[1]//2 - cur_loc[0]\n",
    "sh_y = SA_rec_sliced.shape[0]//2 - cur_loc[1]\n",
    "SA_rec_sh = shift(SA_rec_sliced, [sh_y, sh_x], prefilter=False)"
   ]
  },
  {
   "cell_type": "code",
   "execution_count": 22,
   "metadata": {},
   "outputs": [
    {
     "data": {
      "text/plain": [
       "<matplotlib.image.AxesImage at 0x7f8fe8772040>"
      ]
     },
     "execution_count": 22,
     "metadata": {},
     "output_type": "execute_result"
    },
    {
     "data": {
      "image/png": "[encoded data removed]",
      "text/plain": [
       "<Figure size 640x480 with 1 Axes>"
      ]
     },
     "metadata": {},
     "output_type": "display_data"
    }
   ],
   "source": [
    "plt.imshow(SA_rec_sh[:,:])"
   ]
  }
 ],
 "metadata": {
  "kernelspec": {
   "display_name": "tf_gpu",
   "language": "python",
   "name": "python3"
  },
  "language_info": {
   "codemirror_mode": {
    "name": "ipython",
    "version": 3
   },
   "file_extension": ".py",
   "mimetype": "text/x-python",
   "name": "python",
   "nbconvert_exporter": "python",
   "pygments_lexer": "ipython3",
   "version": "3.9.16"
  }
 },
 "nbformat": 4,
 "nbformat_minor": 2
}
