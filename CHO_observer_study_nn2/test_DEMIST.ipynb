{
 "cells": [
  {
   "cell_type": "code",
   "execution_count": 1,
   "metadata": {},
   "outputs": [
    {
     "name": "stderr",
     "output_type": "stream",
     "text": [
      "/tmp/ipykernel_3352291/1055466500.py:11: DeprecationWarning: Please use `shift` from the `scipy.ndimage` namespace, the `scipy.ndimage.interpolation` namespace is deprecated.\n",
      "  from scipy.ndimage.interpolation import shift\n"
     ]
    },
    {
     "name": "stdout",
     "output_type": "stream",
     "text": [
      "loading pre-written channels file...\n",
      "U shape:  (1024, 4)\n",
      "loading images... \n",
      "calculating test statistics...\n",
      "loading pre-written channels file...\n",
      "U shape:  (1024, 4)\n",
      "loading images... \n",
      "calculating test statistics...\n"
     ]
    }
   ],
   "source": [
    "import numpy as np\n",
    "import argparse\n",
    "from custom_function import *\n",
    "from glob import iglob\n",
    "from collections import defaultdict\n",
    "import scipy.ndimage\n",
    "import scipy.io as sio\n",
    "import sys\n",
    "import os\n",
    "import csv\n",
    "from scipy.ndimage.interpolation import shift\n",
    "\n",
    "def my_read_bin(cur_inp_file, data_type, input_shape):\n",
    "  A = np.fromfile(cur_inp_file, dtype = data_type)\n",
    "  A[np.isnan(A)] = 0\n",
    "  A = np.reshape(A, input_shape)\n",
    "  A = np.transpose(A, [2, 1, 0])\n",
    "  return A\n",
    "\n",
    "def center_to_def_loc(SA_rec, cur_loc, offset):\n",
    "  SA_rec_sliced = SA_rec[:,:,cur_loc[2]+offset]\n",
    "  sh_x = SA_rec_sliced.shape[1]//2 - cur_loc[0]\n",
    "  sh_y = SA_rec_sliced.shape[0]//2 - cur_loc[1]\n",
    "  SA_rec_sh = shift(SA_rec_sliced, [sh_y, sh_x], prefilter=False)\n",
    "  return SA_rec_sh\n",
    "\n",
    "def read_patient_file(file_path):\n",
    "    \"\"\"\n",
    "    Reads the patient selection file and returns the lists of diseased and healthy patients.\n",
    "\n",
    "    Parameters:\n",
    "    file_path (str): The path to the patient selection text file.\n",
    "\n",
    "    Returns:\n",
    "    Tuple[List[str], List[str]]: A tuple containing two lists: one for diseased patients and one for healthy patients.\n",
    "    \"\"\"\n",
    "    with open(file_path, 'r') as file:\n",
    "        lines = file.readlines()\n",
    "    \n",
    "    diseased_patients = []\n",
    "    healthy_patients = []\n",
    "    is_diseased = False\n",
    "    is_healthy = False\n",
    "\n",
    "    for line in lines:\n",
    "        line = line.strip()\n",
    "        if line == \"Selected diseased patients:\":\n",
    "            is_diseased = True\n",
    "            is_healthy = False\n",
    "        elif line == \"Selected healthy patients:\":\n",
    "            is_diseased = False\n",
    "            is_healthy = True\n",
    "        elif is_diseased:\n",
    "            if line:\n",
    "                diseased_patients.append(line)\n",
    "        elif is_healthy:\n",
    "            if line:\n",
    "                healthy_patients.append(line)\n",
    "\n",
    "    return diseased_patients, healthy_patients\n",
    "\n",
    "\n",
    "def read_columns_separately(file_path):\n",
    "    # Initialize empty lists to store each column's values\n",
    "    first_column = []\n",
    "    second_column = []\n",
    "    third_column = []\n",
    "\n",
    "    # Open the file and read its content\n",
    "    with open(file_path, 'r') as file:\n",
    "        lines = file.readlines()\n",
    "\n",
    "        # Iterate over each line in the file\n",
    "        for line in lines:\n",
    "            # Split the line by the tab character (or other delimiter)\n",
    "            columns = line.strip().split('\\t')\n",
    "\n",
    "            # Ensure the line has at least three columns\n",
    "            if len(columns) >= 3:\n",
    "                # Append each column value to the corresponding list\n",
    "                first_column.append(columns[0])\n",
    "                second_column.append(columns[1])\n",
    "                third_column.append(columns[2])\n",
    "\n",
    "    return first_column, second_column, third_column\n",
    "\n",
    "\n",
    "\n",
    "\n",
    "Ud=32\n",
    "\n",
    "\n",
    "location_setting=  ['a','i']\n",
    "extent_setting =  [30,60] #[30,90,60] \n",
    "severity_setting=   [100,175,250]\n",
    "\n",
    "location_setting_combined=   '_'.join(map(str,location_setting))\n",
    "extent_setting_combined =   '_'.join(map(str,extent_setting))\n",
    "severity_setting_combined=   '_'.join(map(str,severity_setting))\n",
    "\n",
    "CT_category=['CTAC']\n",
    "\n",
    "observer_study_list = os.listdir('/datastore01/user-storage/y.zezhang/2025_high_dose_project/data/neural_network_data/training_demist')\n",
    "\n",
    "def_folder='/datastore01/user-storage/y.zezhang/2025_high_dose_project/data/neural_network_data/def_centroid'\n",
    "base_folder = '/datastore01/user-storage/y.zezhang/2025_high_dose_project/data/neural_network_data/training_demist'\n",
    "\n",
    "#save_folder = f'{base_folder}/{subsample_slice}'\n",
    "inp_shape = (48, 48, 48)\n",
    "inp_shape_orig = (48, 48, 48)\n",
    "\n",
    "isIO=0\n",
    "\n",
    "diseased_patients = os.listdir('/datastore01/user-storage/y.zezhang/2025_high_dose_project/data/neural_network_data/training_demist')\n",
    "healthy_patients = os.listdir('/datastore01/user-storage/y.zezhang/2025_high_dose_project/data/neural_network_data/training_demist')\n",
    "\n",
    "dose_levels=['d4','d1']\n",
    "\n",
    "for dose_level in dose_levels:\n",
    "  \n",
    "  save_folder = f'/datastore01/user-storage/y.zezhang/2025_high_dose_project/data/results'\n",
    "  #sub_base_folder=os.path.join(base_folder,study_project)\n",
    "  \n",
    "  if not os.path.isdir(save_folder):\n",
    "    os.mkdir(save_folder)\n",
    "  \n",
    "\n",
    "\n",
    "  print('loading pre-written channels file...')\n",
    "  if Ud == 32:\n",
    "    U_flag = ''\n",
    "  elif Ud == 64:\n",
    "    U_flag = f'_{Ud}'\n",
    "\n",
    "  U = np.load(f'U{U_flag}.npy')\n",
    "  print('U shape: ',U.shape)\n",
    "  U = np.transpose(U, [1,0])\n",
    "\n",
    "\n",
    "\n",
    "  print(f'loading images... ')\n",
    "\n",
    "  ff = {'diseased':defaultdict(list), 'healthy':defaultdict(list)}\n",
    "  pat_ind_arr = {'diseased':diseased_patients, 'healthy':healthy_patients}\n",
    "  \n",
    "  for CT_method in CT_category:\n",
    "    for diag in ['diseased', 'healthy']:\n",
    "      #status_folder=os.path.join(sub_base_folder,diag)\n",
    "      subensemble_idx = 0\n",
    "      for location in location_setting:\n",
    "        for extent in extent_setting:\n",
    "          for severity in severity_setting: \n",
    "            if diag == 'diseased':         \n",
    "              for index, di_item in enumerate(diseased_patients):\n",
    "                \n",
    "                patient=di_item\n",
    "                def_type=f'd{location}21{extent}s{severity}'\n",
    "                def_centroid_type=def_type.split('s')[0]\n",
    "              \n",
    "              \n",
    "                cur_path=os.path.join(base_folder,patient)\n",
    "                #cur_path=os.path.join(cur_path,CT_method)\n",
    "                cur_path=os.path.join(cur_path,def_type)\n",
    "              \n",
    "                SA_name=os.path.join(cur_path,f'recon_pat{patient}_{dose_level}_it8_c30o5.img')\n",
    "                \n",
    "                def_loc_path=os.path.join(def_folder,patient)\n",
    "                def_loc_fname=def_loc_path +'/'+ 'def_centroid_' + def_centroid_type + '_mod.bin'\n",
    "                \n",
    "                SA_rec_base = my_read_bin(SA_name, 'float32', inp_shape_orig)    \n",
    "                cur_loc = np.fromfile(def_loc_fname, dtype = 'float32').astype(int) - 1 #0 -based / but nn2D has 1 shift\n",
    "                \n",
    "                for offset in [7,8,9]:\n",
    "                  SA_rec = center_to_def_loc(SA_rec_base, cur_loc, offset)\n",
    "                  SA_rec = SA_rec[8:40,8:40]\n",
    "                  if Ud != 32:\n",
    "                    SA_rec = scipy.ndimage.zoom(SA_rec, Ud/32, order=0) # upsampling to 512X512\n",
    "                  SA_rec = (SA_rec-np.min(SA_rec))/(np.max(SA_rec)-np.min(SA_rec))*255\n",
    "                  SA_rec = SA_rec - np.mean(SA_rec) # remove zero frequency component\n",
    "                  ff[diag][subensemble_idx].append(SA_rec.flatten())\n",
    "                \n",
    "            elif diag == 'healthy':    \n",
    "              for index, hl_item in enumerate(healthy_patients):    \n",
    "\n",
    "                patient=hl_item\n",
    "                def_type=f'd{location}21{extent}s{severity}'\n",
    "                \n",
    "                cur_path=os.path.join(base_folder,patient)\n",
    "                #cur_path=os.path.join(cur_path,CT_method)\n",
    "                cur_path=os.path.join(cur_path,'hl')\n",
    "          \n",
    "                SA_name=os.path.join(cur_path,f'recon_pat{patient}_{dose_level}_it8_c30o5.img')\n",
    "                \n",
    "                def_loc_path=os.path.join(def_folder,patient)\n",
    "                def_centroid_type=def_type.split('s')[0]\n",
    "                def_loc_fname=def_loc_path +'/'+ 'def_centroid_' + def_centroid_type + '_mod.bin'\n",
    "                \n",
    "                SA_rec_base = my_read_bin(SA_name, 'float32', inp_shape_orig)    \n",
    "                cur_loc = np.fromfile(def_loc_fname, dtype = 'float32').astype(int) - 1 #0 -based / but nn2D has 1 shift \n",
    "                \n",
    "                for offset in [7,8,9]:\n",
    "                  SA_rec = center_to_def_loc(SA_rec_base, cur_loc, offset)\n",
    "                  SA_rec = SA_rec[8:40,8:40]\n",
    "                  if Ud != 32:\n",
    "                    SA_rec = scipy.ndimage.zoom(SA_rec, Ud/32, order=0) # upsampling to 512X512\n",
    "                  SA_rec = (SA_rec-np.min(SA_rec))/(np.max(SA_rec)-np.min(SA_rec))*255\n",
    "                  SA_rec = SA_rec - np.mean(SA_rec) # remove zero frequency component\n",
    "                  ff[diag][subensemble_idx].append(SA_rec.flatten())\n",
    "                \n",
    "          #if isIO == 1:\n",
    "          #  subensemble_idx += 1\n",
    "\n",
    "          #if pat_ind == pat_ind_arr[diag][0]:\n",
    "          #  pass\n",
    "\n",
    "      \n",
    "      \n",
    "\n",
    "  #np.save(f'{root_folder}/SA_rec_d{location}21{extent}.npy', SA_rec)\n",
    "  ###################################################################\n",
    "\n",
    "  print('calculating test statistics...')\n",
    "  tS_sum = []\n",
    "  tN_sum = []\n",
    "\n"
   ]
  },
  {
   "cell_type": "code",
   "execution_count": 74,
   "metadata": {},
   "outputs": [
    {
     "data": {
      "text/plain": [
       "<matplotlib.image.AxesImage at 0x7fa2df17ab80>"
      ]
     },
     "execution_count": 74,
     "metadata": {},
     "output_type": "execute_result"
    },
    {
     "data": {
      "image/png": "[encoded data removed]",
      "text/plain": [
       "<Figure size 640x480 with 1 Axes>"
      ]
     },
     "metadata": {},
     "output_type": "display_data"
    }
   ],
   "source": [
    "import matplotlib.pyplot as plt\n",
    "image= np.reshape( ff['diseased'][0][3820],(32, 32))\n",
    "image[15,15]=0\n",
    "plt.imshow(image)"
   ]
  },
  {
   "cell_type": "code",
   "execution_count": 9,
   "metadata": {},
   "outputs": [],
   "source": [
    "SA_name=os.path.join(cur_path,f'recon_pat{patient}_{dose_level}_it8_c30o5.img')\n",
    "def_loc_path=os.path.join(def_folder,patient)\n",
    "def_loc_fname=def_loc_path +'/'+ 'def_centroid_' + def_centroid_type + '_mod.bin'\n",
    "\n",
    "SA_rec_base = my_read_bin(SA_name, 'float32', inp_shape_orig)    \n",
    "cur_loc = np.fromfile(def_loc_fname, dtype = 'float32').astype(int) - 1 #0 -based / but nn2D has 1 shift\n"
   ]
  },
  {
   "cell_type": "code",
   "execution_count": 10,
   "metadata": {},
   "outputs": [
    {
     "data": {
      "text/plain": [
       "array([28, 29, 16])"
      ]
     },
     "execution_count": 10,
     "metadata": {},
     "output_type": "execute_result"
    }
   ],
   "source": [
    "cur_loc"
   ]
  },
  {
   "cell_type": "code",
   "execution_count": 11,
   "metadata": {},
   "outputs": [
    {
     "data": {
      "text/plain": [
       "<matplotlib.image.AxesImage at 0x7faabf0aafd0>"
      ]
     },
     "execution_count": 11,
     "metadata": {},
     "output_type": "execute_result"
    },
    {
     "data": {
      "image/png": "[encoded data removed]",
      "text/plain": [
       "<Figure size 640x480 with 1 Axes>"
      ]
     },
     "metadata": {},
     "output_type": "display_data"
    }
   ],
   "source": [
    "plt.imshow(SA_rec_base[:,:,24])"
   ]
  },
  {
   "cell_type": "code",
   "execution_count": 12,
   "metadata": {},
   "outputs": [],
   "source": [
    "cur_loc=[29,31,16]"
   ]
  },
  {
   "cell_type": "code",
   "execution_count": 13,
   "metadata": {},
   "outputs": [],
   "source": [
    "offset=7\n",
    "SA_rec_sliced = SA_rec_base[:,:,cur_loc[2]+offset]\n",
    "sh_x = SA_rec_sliced.shape[1]//2 - cur_loc[0]\n",
    "sh_y = SA_rec_sliced.shape[0]//2 - cur_loc[1]\n",
    "SA_rec_sh = shift(SA_rec_sliced, [sh_y, sh_x], prefilter=False)"
   ]
  },
  {
   "cell_type": "code",
   "execution_count": 14,
   "metadata": {},
   "outputs": [
    {
     "data": {
      "text/plain": [
       "<matplotlib.image.AxesImage at 0x7faabedc83d0>"
      ]
     },
     "execution_count": 14,
     "metadata": {},
     "output_type": "execute_result"
    },
    {
     "data": {
      "image/png": "[encoded data removed]",
      "text/plain": [
       "<Figure size 640x480 with 1 Axes>"
      ]
     },
     "metadata": {},
     "output_type": "display_data"
    }
   ],
   "source": [
    "plt.imshow(SA_rec_sh[:,:])"
   ]
  },
  {
   "cell_type": "code",
   "execution_count": 19,
   "metadata": {},
   "outputs": [
    {
     "data": {
      "text/plain": [
       "<matplotlib.image.AxesImage at 0x7faabeb28df0>"
      ]
     },
     "execution_count": 19,
     "metadata": {},
     "output_type": "execute_result"
    },
    {
     "data": {
      "image/png": "[encoded data removed]",
      "text/plain": [
       "<Figure size 640x480 with 1 Axes>"
      ]
     },
     "metadata": {},
     "output_type": "display_data"
    }
   ],
   "source": [
    "plt.imshow(np.reshape( ff['diseased'][0][2500],(32, 32)))"
   ]
  }
 ],
 "metadata": {
  "kernelspec": {
   "display_name": "tf_gpu",
   "language": "python",
   "name": "python3"
  },
  "language_info": {
   "codemirror_mode": {
    "name": "ipython",
    "version": 3
   },
   "file_extension": ".py",
   "mimetype": "text/x-python",
   "name": "python",
   "nbconvert_exporter": "python",
   "pygments_lexer": "ipython3",
   "version": "3.9.16"
  }
 },
 "nbformat": 4,
 "nbformat_minor": 2
}
