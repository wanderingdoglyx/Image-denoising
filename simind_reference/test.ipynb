{
 "cells": [
  {
   "cell_type": "code",
   "execution_count": 15,
   "metadata": {},
   "outputs": [
    {
     "name": "stderr",
     "output_type": "stream",
     "text": [
      "/tmp/ipykernel_2323589/3712044842.py:11: DeprecationWarning: Please import `shift` from the `scipy.ndimage` namespace; the `scipy.ndimage.interpolation` namespace is deprecated and will be removed in SciPy 2.0.0.\n",
      "  from scipy.ndimage.interpolation import shift\n"
     ]
    }
   ],
   "source": [
    "import os\n",
    "import time \n",
    "import numpy as np\n",
    "import argparse\n",
    "from glob import iglob\n",
    "from collections import defaultdict\n",
    "import scipy.ndimage\n",
    "import scipy.io as sio\n",
    "import sys\n",
    "import csv\n",
    "from scipy.ndimage.interpolation import shift\n",
    "import matplotlib.pyplot as plt\n",
    "import pytomography\n",
    "from pytomography.io.SPECT import simind\n",
    "import matplotlib.pyplot as plt\n",
    "import torch\n",
    "import pydicom as dicom\n",
    "\n",
    "def my_read_bin(cur_inp_file, data_type, input_shape):\n",
    "  A = np.fromfile(cur_inp_file, dtype = data_type)\n",
    "  A[np.isnan(A)] = 0\n",
    "  A = np.reshape(A, input_shape)\n",
    " \n",
    "  return A\n",
    "\n",
    "def my_write_bin(cur_out_file, data_type, data):\n",
    "  \n",
    "  data.astype(data_type).tofile(cur_out_file)\n",
    "  return"
   ]
  },
  {
   "cell_type": "code",
   "execution_count": 85,
   "metadata": {},
   "outputs": [],
   "source": [
    "import pydicom as dicom\n",
    "import matplotlib.pylab as plt\n",
    "import numpy as np\n",
    "import os\n",
    "from tempfile import TemporaryFile\n",
    "import pandas as pd\n",
    "import shutil \n",
    "\n",
    "def my_read_bin(cur_inp_file, data_type, input_shape):\n",
    "  A = np.fromfile(cur_inp_file, dtype = data_type)\n",
    "  A[np.isnan(A)] = 0\n",
    "  A = np.reshape(A, input_shape)\n",
    "  #A = np.transpose(A, [2, 1, 0])\n",
    "  return A\n",
    "\n",
    "def my_write_bin(cur_out_file, data_type, data):\n",
    "  #data = np.transpose(data, [2, 1, 0])\n",
    "  data.astype(data_type).tofile(cur_out_file)\n",
    "  return\n",
    "\n",
    "# Get the list of patient data and directories\n",
    "real_patient_data_path = \"/data01/user-storage/y.zezhang/data_from_zitong_real_patient_project/real_disease_data2_total/real_disease_data_original\"\n",
    "patient_list = os.listdir(real_patient_data_path)\n",
    "\n",
    "# select useful_data\n",
    "useful_patient_list=[]\n",
    "for count, ele in enumerate(patient_list):\n",
    "    if 'PriPrj' in ele:\n",
    "        useful_patient_list.append(ele)\n",
    "    \n",
    "# need upscale file's path \n",
    "need_upscale_file_path = \"/data01/user-storage/y.zezhang/image_trial_project/phantom\"\n",
    "need_upscale_list = os.listdir(need_upscale_file_path)\n",
    "\n",
    "# simind collimator cases\n",
    "simind_collimator=['ge670','siemens_symbia','philips_precedence','ge_hawkeye']\n",
    "\n",
    "                            \n",
    "save_folder=\"/data01/user-storage/y.zezhang/image_trial_project/phantom_upscale\"\n",
    "                            \n",
    "\n",
    "filename_base = \"feas_param\"\n",
    "\n",
    "# image dimension\n",
    "#patient\n",
    "real_patient_x=64\n",
    "real_patient_y=64\n",
    "real_patient_z=30\n",
    "patient_image_dimension=real_patient_x*real_patient_y*real_patient_z\n",
    "\n",
    "#upscale image\n",
    "upscale_image_x=64\n",
    "upscale_image_y=64\n",
    "upscale_image_z=30\n",
    "upscale_image_dimension=upscale_image_x*upscale_image_y*upscale_image_z\n",
    "\n",
    "real_patient_pixel_average_list=[]\n",
    "for index, useful_patient in enumerate(useful_patient_list):\n",
    "\n",
    "    useful_patient_path=os.path.join(real_patient_data_path, useful_patient)\n",
    "    patient_file_list = os.listdir(useful_patient_path)\n",
    "    patient_file_list.remove('metacache.mim')\n",
    "    patient_file=os.path.join(useful_patient_path, patient_file_list[0])  \n",
    "    ds = dicom.dcmread(patient_file)\n",
    "    \n",
    "    \n",
    "    Real_World_Value_Intercept=ds[0x00409096][0][0x00409224].value\n",
    "    Real_World_Value_Slope=ds[0x00409096][0][0x00409225].value\n",
    "    \n",
    "    \n",
    "    real_patient_image=ds.pixel_array*Real_World_Value_Slope+Real_World_Value_Intercept\n",
    "    \n",
    "    patient_pixel_average=np.sum(real_patient_image)/patient_image_dimension\n",
    "    \n",
    "    real_patient_pixel_average_list.append(patient_pixel_average)\n",
    "    \n",
    "\n",
    "object_pixel_average_list=[]   \n",
    "num_hl=48\n",
    "mode_index=0    \n",
    "gender=['male','female']\n",
    "for simind_collimator_index in simind_collimator:\n",
    "    for gender_index in gender:\n",
    "        for hl_index in range(num_hl):\n",
    "            \n",
    "            filename=f'{filename_base}_md{mode_index}_{gender_index}_nr{hl_index}'\n",
    "\n",
    "            phantom_folder=need_upscale_file_path+\"/\"+filename\n",
    "            \n",
    "            phantom_file_pri= phantom_folder+\"/\"+simind_collimator_index+\"_tot_w1.a00\"\n",
    "            pri_win=my_read_bin(phantom_file_pri, np.float32, [upscale_image_z,upscale_image_y,upscale_image_x])\n",
    "            phamton_pixel_average=np.sum(pri_win)/upscale_image_dimension\n",
    "            \n",
    "            object_pixel_average_list.append(phamton_pixel_average)\n",
    "\n",
    "\n",
    "real_patient_pixel_average=np.sum(real_patient_pixel_average_list)/len(real_patient_pixel_average_list)          \n",
    "object_pixel_average=np.sum(object_pixel_average_list)/len(object_pixel_average_list)         \n",
    "    \n",
    "\n"
   ]
  },
  {
   "cell_type": "code",
   "execution_count": 1,
   "metadata": {},
   "outputs": [],
   "source": [
    "file = open(\"upscale_ratio.txt\", \"r\")\n",
    "activity_scale = file.read()\n",
    "file.close()"
   ]
  },
  {
   "cell_type": "code",
   "execution_count": 3,
   "metadata": {},
   "outputs": [],
   "source": [
    "import os\n",
    "import numpy as np\n",
    "from glob import iglob\n",
    "from collections import defaultdict\n",
    "import matplotlib.pyplot as plt\n",
    "from pytomography.io.SPECT import simind\n",
    "import matplotlib.pyplot as plt\n",
    "\n",
    "\n",
    "def my_read_bin(cur_inp_file, data_type, input_shape):\n",
    "  A = np.fromfile(cur_inp_file, dtype = data_type)\n",
    "  A[np.isnan(A)] = 0\n",
    "  A = np.reshape(A, input_shape)\n",
    "  #A = np.transpose(A, [2, 1, 0])\n",
    "  return A"
   ]
  },
  {
   "cell_type": "code",
   "execution_count": 10,
   "metadata": {},
   "outputs": [],
   "source": [
    "pri_win=my_read_bin('ge_hawkeye.ict', np.float32, [64,64,64])"
   ]
  },
  {
   "cell_type": "code",
   "execution_count": 11,
   "metadata": {},
   "outputs": [],
   "source": [
    "pri_win= np.transpose(pri_win, [0, 2, 1])"
   ]
  },
  {
   "cell_type": "code",
   "execution_count": 12,
   "metadata": {},
   "outputs": [
    {
     "data": {
      "text/plain": [
       "<matplotlib.image.AxesImage at 0x7f38695c17f0>"
      ]
     },
     "execution_count": 12,
     "metadata": {},
     "output_type": "execute_result"
    },
    {
     "data": {
      "image/png": "[encoded data removed]",
      "text/plain": [
       "<Figure size 640x480 with 1 Axes>"
      ]
     },
     "metadata": {},
     "output_type": "display_data"
    }
   ],
   "source": [
    "plt.imshow(pri_win[32,:,:])"
   ]
  }
 ],
 "metadata": {
  "kernelspec": {
   "display_name": "tf-gpu2",
   "language": "python",
   "name": "python3"
  },
  "language_info": {
   "codemirror_mode": {
    "name": "ipython",
    "version": 3
   },
   "file_extension": ".py",
   "mimetype": "text/x-python",
   "name": "python",
   "nbconvert_exporter": "python",
   "pygments_lexer": "ipython3",
   "version": "3.9.16"
  }
 },
 "nbformat": 4,
 "nbformat_minor": 2
}
