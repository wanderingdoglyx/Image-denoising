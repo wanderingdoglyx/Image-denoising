{
 "cells": [
  {
   "cell_type": "code",
   "execution_count": 17,
   "id": "f9f9c524",
   "metadata": {},
   "outputs": [],
   "source": [
    "import os\n",
    "import shutil\n",
    "import pydicom\n",
    "\n",
    "# Paths (edit as needed)\n",
    "mat_folder = '/datastore01/user-storage/y.zezhang/2025_high_dose_project/data/LV_mask/LV_mask_all'\n",
    "dicom_root_folder = '/datastore01/user-storage/y.zezhang/2025_high_dose_project/data/raw_data/SA_folder'\n",
    "output_folder = '/datastore01/user-storage/y.zezhang/2025_high_dose_project/data/SA_folder_match'\n",
    "\n",
    "# Step 1: Extract IDs from .mat filenames\n",
    "mat_ids = set()\n",
    "for file in os.listdir(mat_folder):\n",
    "    if file.endswith('.mat'):\n",
    "        mat_id = file.split('_')[0]\n",
    "        mat_ids.add(mat_id)\n"
   ]
  },
  {
   "cell_type": "code",
   "execution_count": 42,
   "id": "2a32ccbb",
   "metadata": {},
   "outputs": [],
   "source": [
    "# Step 2: Find matching DICOM files and record their folders\n",
    "matched_folders = set()\n",
    "\n",
    "for root, _, files in os.walk(dicom_root_folder):\n",
    "    for file in files:\n",
    "        if file.lower().endswith('.dcm'):\n",
    "            dicom_path = os.path.join(root, file)\n",
    "            try:\n",
    "                dcm = pydicom.dcmread(dicom_path, stop_before_pixels=True)\n",
    "                patient_name_elem = dcm.get((0x0010, 0x0010), None)\n",
    "                if patient_name_elem is not None:\n",
    "                    patient_name = str(patient_name_elem.value).split('^')[0]\n",
    "                    if patient_name in mat_ids:\n",
    "                        matched_folders.add(root)\n",
    "                        break\n",
    "            except Exception as e:\n",
    "                print(f\"Could not read {dicom_path}: {e}\")\n"
   ]
  },
  {
   "cell_type": "code",
   "execution_count": 43,
   "id": "cb159de6",
   "metadata": {},
   "outputs": [
    {
     "data": {
      "text/plain": [
       "{'/datastore01/user-storage/y.zezhang/2025_high_dose_project/data/raw_data/SA_folder/1.2.840._01004358_NM_2015-12-02_080215_ReconPrimDS_Short.Axis.ReconSA_n40__00000',\n",
       " '/datastore01/user-storage/y.zezhang/2025_high_dose_project/data/raw_data/SA_folder/1.2.840._01424087_NM_2018-06-08_105823_ReconPrimDS_Short.Axis.ReconSA_n44__00000',\n",
       " '/datastore01/user-storage/y.zezhang/2025_high_dose_project/data/raw_data/SA_folder/1.2.840._01893473_NM_2017-05-26_100549_ReconPrimDS_Short.Axis.ReconSA_n43__00000',\n",
       " '/datastore01/user-storage/y.zezhang/2025_high_dose_project/data/raw_data/SA_folder/1.2.840._02668037_NM_2018-02-02_103858_ReconPrimDS_Short.Axis.ReconSA_n43__00000',\n",
       " '/datastore01/user-storage/y.zezhang/2025_high_dose_project/data/raw_data/SA_folder/1.2.840._02749222_NM_2015-12-11_103529_ReconPrimDS_Short.Axis.ReconSA_n40__00000',\n",
       " '/datastore01/user-storage/y.zezhang/2025_high_dose_project/data/raw_data/SA_folder/1.2.840._03328459_NM_2017-03-20_074113_ReconPrimDS_Short.Axis.ReconSA_n45__00000',\n",
       " '/datastore01/user-storage/y.zezhang/2025_high_dose_project/data/raw_data/SA_folder/1.2.840._03515223_NM_2017-05-22_081424_ReconPrimDS_Short.Axis.ReconSA_n43__00000',\n",
       " '/datastore01/user-storage/y.zezhang/2025_high_dose_project/data/raw_data/SA_folder/1.2.840._05043200_NM_2018-01-19_111247_ReconPrimDS_Short.Axis.ReconSA_n46__00000',\n",
       " '/datastore01/user-storage/y.zezhang/2025_high_dose_project/data/raw_data/SA_folder/1.2.840._05874747_NM_2018-04-30_112122_ReconPrimDS_Short.Axis.ReconSA_n41__00000',\n",
       " '/datastore01/user-storage/y.zezhang/2025_high_dose_project/data/raw_data/SA_folder/1.2.840._06151490_NM_2017-11-20_085740_ReconPrimDS_Short.Axis.ReconSA_n46__00000',\n",
       " '/datastore01/user-storage/y.zezhang/2025_high_dose_project/data/raw_data/SA_folder/1.2.840._06801870_NM_2015-12-14_083321_ReconPrimDS_Short.Axis.ReconSA_n43__00000',\n",
       " '/datastore01/user-storage/y.zezhang/2025_high_dose_project/data/raw_data/SA_folder/1.2.840._07073416_NM_2015-11-11_063330_ReconPrimDS_Short.Axis.ReconSA_n43__00000',\n",
       " '/datastore01/user-storage/y.zezhang/2025_high_dose_project/data/raw_data/SA_folder/1.2.840._07995008_NM_2018-04-03_103511_ReconPrimDS_Short.Axis.ReconSA_n40__00000',\n",
       " '/datastore01/user-storage/y.zezhang/2025_high_dose_project/data/raw_data/SA_folder/1.2.840._08036279_NM_2018-03-21_090705_ReconPrimDS_Short.Axis.ReconSA_n43__00000',\n",
       " '/datastore01/user-storage/y.zezhang/2025_high_dose_project/data/raw_data/SA_folder/1.2.840._08818648_NM_2018-06-07_140726_ReconPrimDS_Short.Axis.ReconSA_n39__00000',\n",
       " '/datastore01/user-storage/y.zezhang/2025_high_dose_project/data/raw_data/SA_folder/1.2.840._10700106_NM_2017-09-05_124749_ReconPrimDS_Short.Axis.ReconSA_n39__00000',\n",
       " '/datastore01/user-storage/y.zezhang/2025_high_dose_project/data/raw_data/SA_folder/1.2.840._11011176_NM_2017-09-12_130317_ReconPrimDS_Short.Axis.ReconSA_n41__00000',\n",
       " '/datastore01/user-storage/y.zezhang/2025_high_dose_project/data/raw_data/SA_folder/1.2.840._11680244_NM_2017-10-27_114435_ReconPrimDS_Short.Axis.ReconSA_n44__00000',\n",
       " '/datastore01/user-storage/y.zezhang/2025_high_dose_project/data/raw_data/SA_folder/1.2.840._11860813_NM_2017-10-13_074726_ReconPrimDS_Short.Axis.ReconSA_n42__00000',\n",
       " '/datastore01/user-storage/y.zezhang/2025_high_dose_project/data/raw_data/SA_folder/1.2.840._13623780_NM_2017-03-21_123107_ReconPrimDS_Short.Axis.ReconSA_n38__00000',\n",
       " '/datastore01/user-storage/y.zezhang/2025_high_dose_project/data/raw_data/SA_folder/1.2.840._13731149_NM_2018-04-05_121121_ReconPrimDS_Short.Axis.ReconSA_n41__00000',\n",
       " '/datastore01/user-storage/y.zezhang/2025_high_dose_project/data/raw_data/SA_folder/1.2.840._14387500_NM_2017-12-08_122006_ReconPrimDS_Short.Axis.ReconSA_n39__00000',\n",
       " '/datastore01/user-storage/y.zezhang/2025_high_dose_project/data/raw_data/SA_folder/1.2.840._15701689_NM_2018-02-28_090659_ReconPrimDS_Short.Axis.ReconSA_n40__00000',\n",
       " '/datastore01/user-storage/y.zezhang/2025_high_dose_project/data/raw_data/SA_folder/1.2.840._15704064_NM_2018-04-12_120233_ReconPrimDS_Short.Axis.ReconSA_n41__00000',\n",
       " '/datastore01/user-storage/y.zezhang/2025_high_dose_project/data/raw_data/SA_folder/1.2.840._15768997_NM_2017-12-06_103417_ReconPrimDS_Short.Axis.ReconSA_n38__00000',\n",
       " '/datastore01/user-storage/y.zezhang/2025_high_dose_project/data/raw_data/SA_folder/1.2.840._19642661_NM_2018-03-23_104210_ReconPrimDS_Short.Axis.ReconSA_n47__00000',\n",
       " '/datastore01/user-storage/y.zezhang/2025_high_dose_project/data/raw_data/SA_folder/1.2.840._20957183_NM_2015-12-04_130942_ReconPrimDS_Short.Axis.ReconSA_n43__00000',\n",
       " '/datastore01/user-storage/y.zezhang/2025_high_dose_project/data/raw_data/SA_folder/1.2.840._20983911_NM_2017-11-06_121902_ReconPrimDS_Short.Axis.ReconSA_n40__00000',\n",
       " '/datastore01/user-storage/y.zezhang/2025_high_dose_project/data/raw_data/SA_folder/1.2.840._21304885_NM_2018-05-01_100436_ReconPrimDS_Short.Axis.ReconSA_n47__00000',\n",
       " '/datastore01/user-storage/y.zezhang/2025_high_dose_project/data/raw_data/SA_folder/1.2.840._22229736_NM_2018-07-10_092116_ReconPrimDS_Short.Axis.ReconSA_n41__00000',\n",
       " '/datastore01/user-storage/y.zezhang/2025_high_dose_project/data/raw_data/SA_folder/1.2.840._23278942_NM_2015-11-12_080112_ReconPrimDS_Short.Axis.ReconSA_n42__00000',\n",
       " '/datastore01/user-storage/y.zezhang/2025_high_dose_project/data/raw_data/SA_folder/1.2.840._23772210_NM_2018-07-19_122245_ReconPrimDS_Short.Axis.ReconSA_n45__00000',\n",
       " '/datastore01/user-storage/y.zezhang/2025_high_dose_project/data/raw_data/SA_folder/1.2.840._24207384_NM_2017-05-30_110555_ReconPrimDS_Short.Axis.ReconSA_n39__00000',\n",
       " '/datastore01/user-storage/y.zezhang/2025_high_dose_project/data/raw_data/SA_folder/1.2.840._26935265_NM_2018-05-18_101649_ReconPrimDS_Short.Axis.ReconSA_n36__00000',\n",
       " '/datastore01/user-storage/y.zezhang/2025_high_dose_project/data/raw_data/SA_folder/1.2.840._27965981_NM_2018-02-19_112702_ReconPrimDS_Short.Axis.ReconSA_n47__00000',\n",
       " '/datastore01/user-storage/y.zezhang/2025_high_dose_project/data/raw_data/SA_folder/1.2.840._28070170_NM_2017-11-14_090430_ReconPrimDS_Short.Axis.ReconSA_n40__00000',\n",
       " '/datastore01/user-storage/y.zezhang/2025_high_dose_project/data/raw_data/SA_folder/1.2.840._31709787_NM_2018-02-16_085654_ReconPrimDS_Short.Axis.ReconSA_n40__00000',\n",
       " '/datastore01/user-storage/y.zezhang/2025_high_dose_project/data/raw_data/SA_folder/1.2.840._31800785_NM_2018-07-18_083321_ReconPrimDS_Short.Axis.ReconSA_n43__00000',\n",
       " '/datastore01/user-storage/y.zezhang/2025_high_dose_project/data/raw_data/SA_folder/1.2.840._34274011_NM_2018-06-01_113616_ReconPrimDS_Short.Axis.ReconSA_n44__00000',\n",
       " '/datastore01/user-storage/y.zezhang/2025_high_dose_project/data/raw_data/SA_folder/1.2.840._34387922_NM_2019-07-08_104203_ReconPrimDS_Short.Axis.ReconSA_n41__00000',\n",
       " '/datastore01/user-storage/y.zezhang/2025_high_dose_project/data/raw_data/SA_folder/1.2.840._35207735_NM_2018-04-13_115948_ReconPrimDS_Short.Axis.ReconSA_n44__00000',\n",
       " '/datastore01/user-storage/y.zezhang/2025_high_dose_project/data/raw_data/SA_folder/1.2.840._35338825_NM_2018-05-31_102601_ReconPrimDS_Short.Axis.ReconSA_n45__00000',\n",
       " '/datastore01/user-storage/y.zezhang/2025_high_dose_project/data/raw_data/SA_folder/1.2.840._35500028_NM_2017-05-16_111329_ReconPrimDS_Short.Axis.ReconSA_n45__00000',\n",
       " '/datastore01/user-storage/y.zezhang/2025_high_dose_project/data/raw_data/SA_folder/1.2.840._35983551_NM_2015-11-25_093157_ReconPrimDS_Short.Axis.ReconSA_n48__00000',\n",
       " '/datastore01/user-storage/y.zezhang/2025_high_dose_project/data/raw_data/SA_folder/1.2.840._37194727_NM_2017-12-12_120903_ReconPrimDS_Short.Axis.ReconSA_n44__00000',\n",
       " '/datastore01/user-storage/y.zezhang/2025_high_dose_project/data/raw_data/SA_folder/1.2.840._37588745_NM_2018-06-14_112653_ReconPrimDS_Short.Axis.ReconSA_n43__00000',\n",
       " '/datastore01/user-storage/y.zezhang/2025_high_dose_project/data/raw_data/SA_folder/1.2.840._37642479_NM_2017-03-30_125602_ReconPrimDS_Short.Axis.ReconSA_n44__00000',\n",
       " '/datastore01/user-storage/y.zezhang/2025_high_dose_project/data/raw_data/SA_folder/1.2.840._39814901_NM_2018-03-29_090337_ReconPrimDS_Short.Axis.ReconSA_n45__00000',\n",
       " '/datastore01/user-storage/y.zezhang/2025_high_dose_project/data/raw_data/SA_folder/1.2.840._40023267_NM_2018-01-15_091010_ReconPrimDS_Short.Axis.ReconSA_n42__00000',\n",
       " '/datastore01/user-storage/y.zezhang/2025_high_dose_project/data/raw_data/SA_folder/1.2.840._40212603_NM_2017-10-26_103742_ReconPrimDS_Short.Axis.ReconSA_n44__00000',\n",
       " '/datastore01/user-storage/y.zezhang/2025_high_dose_project/data/raw_data/SA_folder/1.2.840._43251571_NM_2018-06-28_092911_ReconPrimDS_Short.Axis.ReconSA_n47__00000',\n",
       " '/datastore01/user-storage/y.zezhang/2025_high_dose_project/data/raw_data/SA_folder/1.2.840._43844415_NM_2017-04-12_093345_ReconPrimDS_Short.Axis.ReconSA_n47__00000',\n",
       " '/datastore01/user-storage/y.zezhang/2025_high_dose_project/data/raw_data/SA_folder/1.2.840._45996986_NM_2017-10-05_092605_ReconPrimDS_Short.Axis.ReconSA_n42__00000',\n",
       " '/datastore01/user-storage/y.zezhang/2025_high_dose_project/data/raw_data/SA_folder/1.2.840._46316925_NM_2018-05-15_120950_ReconPrimDS_Short.Axis.ReconSA_n46__00000',\n",
       " '/datastore01/user-storage/y.zezhang/2025_high_dose_project/data/raw_data/SA_folder/1.2.840._47997779_NM_2017-04-05_090038_ReconPrimDS_Short.Axis.ReconSA_n45__00000',\n",
       " '/datastore01/user-storage/y.zezhang/2025_high_dose_project/data/raw_data/SA_folder/1.2.840._48010549_NM_2017-09-15_070005_ReconPrimDS_Short.Axis.ReconSA_n43__00000',\n",
       " '/datastore01/user-storage/y.zezhang/2025_high_dose_project/data/raw_data/SA_folder/1.2.840._48015273_NM_2017-12-13_121007_ReconPrimDS_Short.Axis.ReconSA_n39__00000',\n",
       " '/datastore01/user-storage/y.zezhang/2025_high_dose_project/data/raw_data/SA_folder/1.2.840._48711463_NM_2018-05-23_122019_ReconPrimDS_Short.Axis.ReconSA_n42__00000',\n",
       " '/datastore01/user-storage/y.zezhang/2025_high_dose_project/data/raw_data/SA_folder/1.2.840._49187639_NM_2017-03-31_120045_ReconPrimDS_Short.Axis.ReconSA_n45__00000',\n",
       " '/datastore01/user-storage/y.zezhang/2025_high_dose_project/data/raw_data/SA_folder/1.2.840._49260263_NM_2018-05-08_085053_ReconPrimDS_Short.Axis.ReconSA_n47__00000',\n",
       " '/datastore01/user-storage/y.zezhang/2025_high_dose_project/data/raw_data/SA_folder/1.2.840._49986901_NM_2018-01-09_115150_ReconPrimDS_Short.Axis.ReconSA_n44__00000',\n",
       " '/datastore01/user-storage/y.zezhang/2025_high_dose_project/data/raw_data/SA_folder/1.2.840._50398925_NM_2017-03-01_123331_ReconPrimDS_Short.Axis.ReconSA_n39__00000',\n",
       " '/datastore01/user-storage/y.zezhang/2025_high_dose_project/data/raw_data/SA_folder/1.2.840._51282695_NM_2018-04-05_124932_ReconPrimDS_Short.Axis.ReconSA_n44__00000',\n",
       " '/datastore01/user-storage/y.zezhang/2025_high_dose_project/data/raw_data/SA_folder/1.2.840._51395359_NM_2018-04-09_140706_ReconPrimDS_Short.Axis.ReconSA_n46__00000',\n",
       " '/datastore01/user-storage/y.zezhang/2025_high_dose_project/data/raw_data/SA_folder/1.2.840._52383455_NM_2017-10-23_093446_ReconPrimDS_Short.Axis.ReconSA_n46__00000',\n",
       " '/datastore01/user-storage/y.zezhang/2025_high_dose_project/data/raw_data/SA_folder/1.2.840._52481505_NM_2017-08-15_104540_ReconPrimDS_Short.Axis.ReconSA_n47__00000',\n",
       " '/datastore01/user-storage/y.zezhang/2025_high_dose_project/data/raw_data/SA_folder/1.2.840._52686932_NM_2017-04-19_104858_ReconPrimDS_Short.Axis.ReconSA_n42__00000',\n",
       " '/datastore01/user-storage/y.zezhang/2025_high_dose_project/data/raw_data/SA_folder/1.2.840._53361707_NM_2017-01-25_071105_ReconPrimDS_Short.Axis.ReconSA_n43__00000',\n",
       " '/datastore01/user-storage/y.zezhang/2025_high_dose_project/data/raw_data/SA_folder/1.2.840._55311648_NM_2017-09-11_121011_ReconPrimDS_Short.Axis.ReconSA_n43__00000',\n",
       " '/datastore01/user-storage/y.zezhang/2025_high_dose_project/data/raw_data/SA_folder/1.2.840._56741195_NM_2018-07-24_104932_ReconPrimDS_Short.Axis.ReconSA_n45__00000',\n",
       " '/datastore01/user-storage/y.zezhang/2025_high_dose_project/data/raw_data/SA_folder/1.2.840._57206600_NM_2018-07-24_093123_ReconPrimDS_Short.Axis.ReconSA_n45__00000',\n",
       " '/datastore01/user-storage/y.zezhang/2025_high_dose_project/data/raw_data/SA_folder/1.2.840._57834053_NM_2017-08-24_105731_ReconPrimDS_Short.Axis.ReconSA_n38__00000',\n",
       " '/datastore01/user-storage/y.zezhang/2025_high_dose_project/data/raw_data/SA_folder/1.2.840._58302549_NM_2018-05-11_120732_ReconPrimDS_Short.Axis.ReconSA_n42__00000',\n",
       " '/datastore01/user-storage/y.zezhang/2025_high_dose_project/data/raw_data/SA_folder/1.2.840._58543264_NM_2017-08-03_114828_ReconPrimDS_Short.Axis.ReconSA_n38__00000',\n",
       " '/datastore01/user-storage/y.zezhang/2025_high_dose_project/data/raw_data/SA_folder/1.2.840._59170133_NM_2017-08-04_090102_ReconPrimDS_Short.Axis.ReconSA_n47__00000',\n",
       " '/datastore01/user-storage/y.zezhang/2025_high_dose_project/data/raw_data/SA_folder/1.2.840._59285951_NM_2018-03-15_093957_ReconPrimDS_Short.Axis.ReconSA_n39__00000',\n",
       " '/datastore01/user-storage/y.zezhang/2025_high_dose_project/data/raw_data/SA_folder/1.2.840._59632159_NM_2017-03-13_092013_ReconPrimDS_Short.Axis.ReconSA_n44__00000',\n",
       " '/datastore01/user-storage/y.zezhang/2025_high_dose_project/data/raw_data/SA_folder/1.2.840._60066121_NM_2018-06-25_122750_ReconPrimDS_Short.Axis.ReconSA_n47__00000',\n",
       " '/datastore01/user-storage/y.zezhang/2025_high_dose_project/data/raw_data/SA_folder/1.2.840._60488763_NM_2017-02-14_090424_ReconPrimDS_Short.Axis.ReconSA_n40__00000',\n",
       " '/datastore01/user-storage/y.zezhang/2025_high_dose_project/data/raw_data/SA_folder/1.2.840._60489927_NM_2018-02-01_090200_ReconPrimDS_Short.Axis.ReconSA_n44__00000',\n",
       " '/datastore01/user-storage/y.zezhang/2025_high_dose_project/data/raw_data/SA_folder/1.2.840._60724306_NM_2018-03-21_115819_ReconPrimDS_Short.Axis.ReconSA_n39__00000',\n",
       " '/datastore01/user-storage/y.zezhang/2025_high_dose_project/data/raw_data/SA_folder/1.2.840._61185879_NM_2018-03-19_095014_ReconPrimDS_Short.Axis.ReconSA_n43__00000',\n",
       " '/datastore01/user-storage/y.zezhang/2025_high_dose_project/data/raw_data/SA_folder/1.2.840._61193563_NM_2017-03-14_084735_ReconPrimDS_Short.Axis.ReconSA_n44__00000',\n",
       " '/datastore01/user-storage/y.zezhang/2025_high_dose_project/data/raw_data/SA_folder/1.2.840._62212947_NM_2017-08-04_070837_ReconPrimDS_Short.Axis.ReconSA_n40__00000',\n",
       " '/datastore01/user-storage/y.zezhang/2025_high_dose_project/data/raw_data/SA_folder/1.2.840._64248640_NM_2017-05-23_101910_ReconPrimDS_Short.Axis.ReconSA_n42__00000',\n",
       " '/datastore01/user-storage/y.zezhang/2025_high_dose_project/data/raw_data/SA_folder/1.2.840._64499495_NM_2017-05-24_105957_ReconPrimDS_Short.Axis.ReconSA_n44__00000',\n",
       " '/datastore01/user-storage/y.zezhang/2025_high_dose_project/data/raw_data/SA_folder/1.2.840._65561718_NM_2017-11-20_095925_ReconPrimDS_Short.Axis.ReconSA_n44__00000',\n",
       " '/datastore01/user-storage/y.zezhang/2025_high_dose_project/data/raw_data/SA_folder/1.2.840._65596111_NM_2017-09-11_132631_ReconPrimDS_Short.Axis.ReconSA_n38__00000',\n",
       " '/datastore01/user-storage/y.zezhang/2025_high_dose_project/data/raw_data/SA_folder/1.2.840._67942256_NM_2015-12-01_075927_ReconPrimDS_Short.Axis.ReconSA_n36__00000',\n",
       " '/datastore01/user-storage/y.zezhang/2025_high_dose_project/data/raw_data/SA_folder/1.2.840._68859589_NM_2017-09-01_100327_ReconPrimDS_Short.Axis.ReconSA_n39__00000',\n",
       " '/datastore01/user-storage/y.zezhang/2025_high_dose_project/data/raw_data/SA_folder/1.2.840._73026656_NM_2017-03-15_130024_ReconPrimDS_Short.Axis.ReconSA_n45__00000',\n",
       " '/datastore01/user-storage/y.zezhang/2025_high_dose_project/data/raw_data/SA_folder/1.2.840._73961373_NM_2018-03-21_100346_ReconPrimDS_Short.Axis.ReconSA_n41__00000',\n",
       " '/datastore01/user-storage/y.zezhang/2025_high_dose_project/data/raw_data/SA_folder/1.2.840._74013364_NM_2018-05-22_110610_ReconPrimDS_Short.Axis.ReconSA_n39__00000',\n",
       " '/datastore01/user-storage/y.zezhang/2025_high_dose_project/data/raw_data/SA_folder/1.2.840._74966661_NM_2017-03-17_113717_ReconPrimDS_Short.Axis.ReconSA_n39__00000',\n",
       " '/datastore01/user-storage/y.zezhang/2025_high_dose_project/data/raw_data/SA_folder/1.2.840._76318759_NM_2018-01-15_120812_ReconPrimDS_Short.Axis.ReconSA_n44__00000',\n",
       " '/datastore01/user-storage/y.zezhang/2025_high_dose_project/data/raw_data/SA_folder/1.2.840._76851099_NM_2017-04-03_115553_ReconPrimDS_Short.Axis.ReconSA_n46__00000',\n",
       " '/datastore01/user-storage/y.zezhang/2025_high_dose_project/data/raw_data/SA_folder/1.2.840._77318459_NM_2018-01-29_113402_ReconPrimDS_Short.Axis.ReconSA_n39__00000',\n",
       " '/datastore01/user-storage/y.zezhang/2025_high_dose_project/data/raw_data/SA_folder/1.2.840._77454526_NM_2018-03-12_120158_ReconPrimDS_Short.Axis.ReconSA_n47__00000',\n",
       " '/datastore01/user-storage/y.zezhang/2025_high_dose_project/data/raw_data/SA_folder/1.2.840._77783514_NM_2017-08-11_103204_ReconPrimDS_Short.Axis.ReconSA_n43__00000',\n",
       " '/datastore01/user-storage/y.zezhang/2025_high_dose_project/data/raw_data/SA_folder/1.2.840._77874073_NM_2017-08-25_070951_ReconPrimDS_Short.Axis.ReconSA_n37__00000',\n",
       " '/datastore01/user-storage/y.zezhang/2025_high_dose_project/data/raw_data/SA_folder/1.2.840._79005584_NM_2017-12-15_122143_ReconPrimDS_Short.Axis.ReconSA_n38__00000',\n",
       " '/datastore01/user-storage/y.zezhang/2025_high_dose_project/data/raw_data/SA_folder/1.2.840._79434864_NM_2017-10-12_094144_ReconPrimDS_Short.Axis.ReconSA_n40__00000',\n",
       " '/datastore01/user-storage/y.zezhang/2025_high_dose_project/data/raw_data/SA_folder/1.2.840._79452385_NM_2018-06-27_112030_ReconPrimDS_Short.Axis.ReconSA_n41__00000',\n",
       " '/datastore01/user-storage/y.zezhang/2025_high_dose_project/data/raw_data/SA_folder/1.2.840._79884491_NM_2017-11-10_121314_ReconPrimDS_Short.Axis.ReconSA_n43__00000',\n",
       " '/datastore01/user-storage/y.zezhang/2025_high_dose_project/data/raw_data/SA_folder/1.2.840._79974869_NM_2018-04-04_114645_ReconPrimDS_Short.Axis.ReconSA_n43__00000',\n",
       " '/datastore01/user-storage/y.zezhang/2025_high_dose_project/data/raw_data/SA_folder/1.2.840._79992044_NM_2017-08-04_103050_ReconPrimDS_Short.Axis.ReconSA_n38__00000',\n",
       " '/datastore01/user-storage/y.zezhang/2025_high_dose_project/data/raw_data/SA_folder/1.2.840._80179296_NM_2018-07-27_161149_ReconPrimDS_Short.Axis.ReconSA_n44__00000',\n",
       " '/datastore01/user-storage/y.zezhang/2025_high_dose_project/data/raw_data/SA_folder/1.2.840._80527293_NM_2015-11-19_070203_ReconPrimDS_Short.Axis.ReconSA_n44__00000',\n",
       " '/datastore01/user-storage/y.zezhang/2025_high_dose_project/data/raw_data/SA_folder/1.2.840._80842217_NM_2018-06-14_121540_ReconPrimDS_Short.Axis.ReconSA_n42__00000',\n",
       " '/datastore01/user-storage/y.zezhang/2025_high_dose_project/data/raw_data/SA_folder/1.2.840._80951405_NM_2017-05-19_085313_ReconPrimDS_Short.Axis.ReconSA_n42__00000',\n",
       " '/datastore01/user-storage/y.zezhang/2025_high_dose_project/data/raw_data/SA_folder/1.2.840._81107800_NM_2015-12-03_122753_ReconPrimDS_Short.Axis.ReconSA_n41__00000',\n",
       " '/datastore01/user-storage/y.zezhang/2025_high_dose_project/data/raw_data/SA_folder/1.2.840._82139198_NM_2017-03-07_080855_ReconPrimDS_Short.Axis.ReconSA_n39__00000',\n",
       " '/datastore01/user-storage/y.zezhang/2025_high_dose_project/data/raw_data/SA_folder/1.2.840._82616055_NM_2018-02-05_090804_ReconPrimDS_Short.Axis.ReconSA_n42__00000',\n",
       " '/datastore01/user-storage/y.zezhang/2025_high_dose_project/data/raw_data/SA_folder/1.2.840._83463199_NM_2018-06-01_124430_ReconPrimDS_Short.Axis.ReconSA_n43__00000',\n",
       " '/datastore01/user-storage/y.zezhang/2025_high_dose_project/data/raw_data/SA_folder/1.2.840._83891744_NM_2017-11-27_092408_ReconPrimDS_Short.Axis.ReconSA_n40__00000',\n",
       " '/datastore01/user-storage/y.zezhang/2025_high_dose_project/data/raw_data/SA_folder/1.2.840._85256235_NM_2017-04-11_091641_ReconPrimDS_Short.Axis.ReconSA_n46__00000',\n",
       " '/datastore01/user-storage/y.zezhang/2025_high_dose_project/data/raw_data/SA_folder/1.2.840._87200955_NM_2018-04-19_100057_ReconPrimDS_Short.Axis.ReconSA_n47__00000',\n",
       " '/datastore01/user-storage/y.zezhang/2025_high_dose_project/data/raw_data/SA_folder/1.2.840._87751690_NM_2018-05-02_115747_ReconPrimDS_Short.Axis.ReconSA_n40__00000',\n",
       " '/datastore01/user-storage/y.zezhang/2025_high_dose_project/data/raw_data/SA_folder/1.2.840._88158855_NM_2017-02-22_080637_ReconPrimDS_Short.Axis.ReconSA_n44__00000',\n",
       " '/datastore01/user-storage/y.zezhang/2025_high_dose_project/data/raw_data/SA_folder/1.2.840._88950249_NM_2018-07-20_110325_ReconPrimDS_Short.Axis.ReconSA_n39__00000',\n",
       " '/datastore01/user-storage/y.zezhang/2025_high_dose_project/data/raw_data/SA_folder/1.2.840._90028238_NM_2017-11-22_110800_ReconPrimDS_Short.Axis.ReconSA_n43__00000',\n",
       " '/datastore01/user-storage/y.zezhang/2025_high_dose_project/data/raw_data/SA_folder/1.2.840._90775602_NM_2017-11-02_100257_ReconPrimDS_Short.Axis.ReconSA_n40__00000',\n",
       " '/datastore01/user-storage/y.zezhang/2025_high_dose_project/data/raw_data/SA_folder/1.2.840._93064335_NM_2018-01-31_083144_ReconPrimDS_Short.Axis.ReconSA_n46__00000',\n",
       " '/datastore01/user-storage/y.zezhang/2025_high_dose_project/data/raw_data/SA_folder/1.2.840._94535883_NM_2018-05-25_105411_ReconPrimDS_Short.Axis.ReconSA_n40__00000',\n",
       " '/datastore01/user-storage/y.zezhang/2025_high_dose_project/data/raw_data/SA_folder/1.2.840._95223667_NM_2017-03-10_114444_ReconPrimDS_Short.Axis.ReconSA_n39__00000',\n",
       " '/datastore01/user-storage/y.zezhang/2025_high_dose_project/data/raw_data/SA_folder/1.2.840._96068998_NM_2018-04-23_101036_ReconPrimDS_Short.Axis.ReconSA_n44__00000',\n",
       " '/datastore01/user-storage/y.zezhang/2025_high_dose_project/data/raw_data/SA_folder/1.2.840._96503138_NM_2018-05-18_123541_ReconPrimDS_Short.Axis.ReconSA_n44__00000',\n",
       " '/datastore01/user-storage/y.zezhang/2025_high_dose_project/data/raw_data/SA_folder/1.2.840._96866538_NM_2017-05-03_120632_ReconPrimDS_Short.Axis.ReconSA_n43__00000',\n",
       " '/datastore01/user-storage/y.zezhang/2025_high_dose_project/data/raw_data/SA_folder/1.2.840._97128740_NM_2017-12-11_110612_ReconPrimDS_Short.Axis.ReconSA_n41__00000',\n",
       " '/datastore01/user-storage/y.zezhang/2025_high_dose_project/data/raw_data/SA_folder/1.2.840._97136374_NM_2017-11-06_093809_ReconPrimDS_Short.Axis.ReconSA_n45__00000',\n",
       " '/datastore01/user-storage/y.zezhang/2025_high_dose_project/data/raw_data/SA_folder/1.2.840._98895749_NM_2017-02-23_111019_ReconPrimDS_Short.Axis.ReconSA_n37__00000',\n",
       " '/datastore01/user-storage/y.zezhang/2025_high_dose_project/data/raw_data/SA_folder/1.2.840._99504966_NM_2017-10-10_070154_ReconPrimDS_Short.Axis.ReconSA_n45__00000',\n",
       " '/datastore01/user-storage/y.zezhang/2025_high_dose_project/data/raw_data/SA_folder/1.2.840._99572086_NM_2018-06-12_092716_ReconPrimDS_Short.Axis.ReconSA_n40__00000'}"
      ]
     },
     "execution_count": 43,
     "metadata": {},
     "output_type": "execute_result"
    }
   ],
   "source": [
    "matched_folders"
   ]
  },
  {
   "cell_type": "code",
   "execution_count": 46,
   "id": "982b8783",
   "metadata": {},
   "outputs": [],
   "source": [
    " patient_name = str(patient_name_elem.value).split('^')[0]"
   ]
  },
  {
   "cell_type": "code",
   "execution_count": 47,
   "id": "c3a74377",
   "metadata": {},
   "outputs": [
    {
     "data": {
      "text/plain": [
       "'M11381940'"
      ]
     },
     "execution_count": 47,
     "metadata": {},
     "output_type": "execute_result"
    }
   ],
   "source": [
    "patient_name"
   ]
  },
  {
   "cell_type": "code",
   "execution_count": 50,
   "id": "a04cf15c",
   "metadata": {},
   "outputs": [
    {
     "data": {
      "text/plain": [
       "True"
      ]
     },
     "execution_count": 50,
     "metadata": {},
     "output_type": "execute_result"
    }
   ],
   "source": [
    "patient_name in mat_ids"
   ]
  },
  {
   "cell_type": "code",
   "execution_count": 37,
   "id": "c234e0aa",
   "metadata": {},
   "outputs": [],
   "source": [
    "# Step 2: Find DICOM folders with matching patient names\n",
    "matched_folders = set()\n",
    "\n",
    "for root, _, files in os.walk(dicom_root_folder):\n",
    "    for file in files:\n",
    "        if file.lower().endswith('.dcm'):\n",
    "            dicom_path = os.path.join(root, file)\n",
    "            try:\n",
    "                dcm = pydicom.dcmread(dicom_path, stop_before_pixels=True)\n",
    "                patient_name_elem = dcm.get((0x0010, 0x0010), None)\n",
    "                if patient_name_elem is not None:\n",
    "                    patient_name = patient_name_elem.value\n",
    "                    if patient_name in mat_ids:\n",
    "                        matched_folders.add(root)\n",
    "                        break  # Found match, skip to next folder\n",
    "            except Exception as e:\n",
    "                print(f\"Failed reading {dicom_path}: {e}\")"
   ]
  }
 ],
 "metadata": {
  "kernelspec": {
   "display_name": "tf_gpu04",
   "language": "python",
   "name": "python3"
  },
  "language_info": {
   "codemirror_mode": {
    "name": "ipython",
    "version": 3
   },
   "file_extension": ".py",
   "mimetype": "text/x-python",
   "name": "python",
   "nbconvert_exporter": "python",
   "pygments_lexer": "ipython3",
   "version": "3.9.20"
  }
 },
 "nbformat": 4,
 "nbformat_minor": 5
}
